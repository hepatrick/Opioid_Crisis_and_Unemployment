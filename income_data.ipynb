{
 "cells": [
  {
   "cell_type": "code",
   "execution_count": 1,
   "metadata": {},
   "outputs": [],
   "source": [
    "# Import dependencies\n",
    " import pandas as pd"
   ]
  },
  {
   "cell_type": "code",
   "execution_count": 2,
   "metadata": {},
   "outputs": [
    {
     "data": {
      "text/html": [
       "<div>\n",
       "<style scoped>\n",
       "    .dataframe tbody tr th:only-of-type {\n",
       "        vertical-align: middle;\n",
       "    }\n",
       "\n",
       "    .dataframe tbody tr th {\n",
       "        vertical-align: top;\n",
       "    }\n",
       "\n",
       "    .dataframe thead th {\n",
       "        text-align: right;\n",
       "    }\n",
       "</style>\n",
       "<table border=\"1\" class=\"dataframe\">\n",
       "  <thead>\n",
       "    <tr style=\"text-align: right;\">\n",
       "      <th></th>\n",
       "      <th>id</th>\n",
       "      <th>State_Code</th>\n",
       "      <th>State_Name</th>\n",
       "      <th>State_ab</th>\n",
       "      <th>County</th>\n",
       "      <th>City</th>\n",
       "      <th>Place</th>\n",
       "      <th>Type</th>\n",
       "      <th>Primary</th>\n",
       "      <th>Zip_Code</th>\n",
       "      <th>Area_Code</th>\n",
       "      <th>ALand</th>\n",
       "      <th>AWater</th>\n",
       "      <th>Lat</th>\n",
       "      <th>Lon</th>\n",
       "      <th>Mean</th>\n",
       "      <th>Median</th>\n",
       "      <th>Stdev</th>\n",
       "      <th>sum_w</th>\n",
       "    </tr>\n",
       "  </thead>\n",
       "  <tbody>\n",
       "    <tr>\n",
       "      <th>0</th>\n",
       "      <td>1011000</td>\n",
       "      <td>1</td>\n",
       "      <td>Alabama</td>\n",
       "      <td>AL</td>\n",
       "      <td>Mobile County</td>\n",
       "      <td>Chickasaw</td>\n",
       "      <td>Chickasaw city</td>\n",
       "      <td>City</td>\n",
       "      <td>place</td>\n",
       "      <td>36611</td>\n",
       "      <td>251</td>\n",
       "      <td>10894952</td>\n",
       "      <td>909156</td>\n",
       "      <td>30.771450</td>\n",
       "      <td>-88.079697</td>\n",
       "      <td>38773</td>\n",
       "      <td>30506</td>\n",
       "      <td>33101</td>\n",
       "      <td>1638.260513</td>\n",
       "    </tr>\n",
       "    <tr>\n",
       "      <th>1</th>\n",
       "      <td>1011010</td>\n",
       "      <td>1</td>\n",
       "      <td>Alabama</td>\n",
       "      <td>AL</td>\n",
       "      <td>Barbour County</td>\n",
       "      <td>Louisville</td>\n",
       "      <td>Clio city</td>\n",
       "      <td>City</td>\n",
       "      <td>place</td>\n",
       "      <td>36048</td>\n",
       "      <td>334</td>\n",
       "      <td>26070325</td>\n",
       "      <td>23254</td>\n",
       "      <td>31.708516</td>\n",
       "      <td>-85.611039</td>\n",
       "      <td>37725</td>\n",
       "      <td>19528</td>\n",
       "      <td>43789</td>\n",
       "      <td>258.017685</td>\n",
       "    </tr>\n",
       "    <tr>\n",
       "      <th>2</th>\n",
       "      <td>1011020</td>\n",
       "      <td>1</td>\n",
       "      <td>Alabama</td>\n",
       "      <td>AL</td>\n",
       "      <td>Shelby County</td>\n",
       "      <td>Columbiana</td>\n",
       "      <td>Columbiana city</td>\n",
       "      <td>City</td>\n",
       "      <td>place</td>\n",
       "      <td>35051</td>\n",
       "      <td>205</td>\n",
       "      <td>44835274</td>\n",
       "      <td>261034</td>\n",
       "      <td>33.191452</td>\n",
       "      <td>-86.615618</td>\n",
       "      <td>54606</td>\n",
       "      <td>31930</td>\n",
       "      <td>57348</td>\n",
       "      <td>926.031000</td>\n",
       "    </tr>\n",
       "    <tr>\n",
       "      <th>3</th>\n",
       "      <td>1011030</td>\n",
       "      <td>1</td>\n",
       "      <td>Alabama</td>\n",
       "      <td>AL</td>\n",
       "      <td>Mobile County</td>\n",
       "      <td>Satsuma</td>\n",
       "      <td>Creola city</td>\n",
       "      <td>City</td>\n",
       "      <td>place</td>\n",
       "      <td>36572</td>\n",
       "      <td>251</td>\n",
       "      <td>36878729</td>\n",
       "      <td>2374530</td>\n",
       "      <td>30.874343</td>\n",
       "      <td>-88.009442</td>\n",
       "      <td>63919</td>\n",
       "      <td>52814</td>\n",
       "      <td>47707</td>\n",
       "      <td>378.114619</td>\n",
       "    </tr>\n",
       "    <tr>\n",
       "      <th>4</th>\n",
       "      <td>1011040</td>\n",
       "      <td>1</td>\n",
       "      <td>Alabama</td>\n",
       "      <td>AL</td>\n",
       "      <td>Mobile County</td>\n",
       "      <td>Dauphin Island</td>\n",
       "      <td>Dauphin Island</td>\n",
       "      <td>Town</td>\n",
       "      <td>place</td>\n",
       "      <td>36528</td>\n",
       "      <td>251</td>\n",
       "      <td>16204185</td>\n",
       "      <td>413605152</td>\n",
       "      <td>30.250913</td>\n",
       "      <td>-88.171268</td>\n",
       "      <td>77948</td>\n",
       "      <td>67225</td>\n",
       "      <td>54270</td>\n",
       "      <td>282.320328</td>\n",
       "    </tr>\n",
       "  </tbody>\n",
       "</table>\n",
       "</div>"
      ],
      "text/plain": [
       "        id  State_Code State_Name State_ab          County            City  \\\n",
       "0  1011000           1    Alabama       AL   Mobile County       Chickasaw   \n",
       "1  1011010           1    Alabama       AL  Barbour County      Louisville   \n",
       "2  1011020           1    Alabama       AL   Shelby County      Columbiana   \n",
       "3  1011030           1    Alabama       AL   Mobile County         Satsuma   \n",
       "4  1011040           1    Alabama       AL   Mobile County  Dauphin Island   \n",
       "\n",
       "             Place  Type Primary  Zip_Code Area_Code     ALand     AWater  \\\n",
       "0   Chickasaw city  City   place     36611       251  10894952     909156   \n",
       "1        Clio city  City   place     36048       334  26070325      23254   \n",
       "2  Columbiana city  City   place     35051       205  44835274     261034   \n",
       "3      Creola city  City   place     36572       251  36878729    2374530   \n",
       "4   Dauphin Island  Town   place     36528       251  16204185  413605152   \n",
       "\n",
       "         Lat        Lon   Mean  Median  Stdev        sum_w  \n",
       "0  30.771450 -88.079697  38773   30506  33101  1638.260513  \n",
       "1  31.708516 -85.611039  37725   19528  43789   258.017685  \n",
       "2  33.191452 -86.615618  54606   31930  57348   926.031000  \n",
       "3  30.874343 -88.009442  63919   52814  47707   378.114619  \n",
       "4  30.250913 -88.171268  77948   67225  54270   282.320328  "
      ]
     },
     "execution_count": 2,
     "metadata": {},
     "output_type": "execute_result"
    }
   ],
   "source": [
    "# Path to CSV file\n",
    "\n",
    "file = \"Resources/income_data_kaggle_copy.csv\"\n",
    "\n",
    "# Read data in to Pandas\n",
    "\n",
    "income_df = pd.read_csv(file)\n",
    "income_df.head()"
   ]
  },
  {
   "cell_type": "code",
   "execution_count": 3,
   "metadata": {},
   "outputs": [],
   "source": [
    "new_df = income_df.drop(['id', 'State_Code', 'State_ab', 'Place', 'Type', 'Primary', 'Area_Code', 'ALand', 'AWater', 'Median', 'Stdev', 'sum_w'], axis=1)"
   ]
  },
  {
   "cell_type": "code",
   "execution_count": 6,
   "metadata": {},
   "outputs": [
    {
     "data": {
      "text/html": [
       "<div>\n",
       "<style scoped>\n",
       "    .dataframe tbody tr th:only-of-type {\n",
       "        vertical-align: middle;\n",
       "    }\n",
       "\n",
       "    .dataframe tbody tr th {\n",
       "        vertical-align: top;\n",
       "    }\n",
       "\n",
       "    .dataframe thead th {\n",
       "        text-align: right;\n",
       "    }\n",
       "</style>\n",
       "<table border=\"1\" class=\"dataframe\">\n",
       "  <thead>\n",
       "    <tr style=\"text-align: right;\">\n",
       "      <th></th>\n",
       "      <th>State_Name</th>\n",
       "      <th>County</th>\n",
       "      <th>City</th>\n",
       "      <th>Zip_Code</th>\n",
       "      <th>Lat</th>\n",
       "      <th>Lon</th>\n",
       "      <th>Mean</th>\n",
       "    </tr>\n",
       "  </thead>\n",
       "  <tbody>\n",
       "    <tr>\n",
       "      <th>0</th>\n",
       "      <td>Alabama</td>\n",
       "      <td>Mobile County</td>\n",
       "      <td>Chickasaw</td>\n",
       "      <td>36611</td>\n",
       "      <td>30.771450</td>\n",
       "      <td>-88.079697</td>\n",
       "      <td>38773</td>\n",
       "    </tr>\n",
       "    <tr>\n",
       "      <th>1</th>\n",
       "      <td>Alabama</td>\n",
       "      <td>Barbour County</td>\n",
       "      <td>Louisville</td>\n",
       "      <td>36048</td>\n",
       "      <td>31.708516</td>\n",
       "      <td>-85.611039</td>\n",
       "      <td>37725</td>\n",
       "    </tr>\n",
       "    <tr>\n",
       "      <th>2</th>\n",
       "      <td>Alabama</td>\n",
       "      <td>Shelby County</td>\n",
       "      <td>Columbiana</td>\n",
       "      <td>35051</td>\n",
       "      <td>33.191452</td>\n",
       "      <td>-86.615618</td>\n",
       "      <td>54606</td>\n",
       "    </tr>\n",
       "    <tr>\n",
       "      <th>3</th>\n",
       "      <td>Alabama</td>\n",
       "      <td>Mobile County</td>\n",
       "      <td>Satsuma</td>\n",
       "      <td>36572</td>\n",
       "      <td>30.874343</td>\n",
       "      <td>-88.009442</td>\n",
       "      <td>63919</td>\n",
       "    </tr>\n",
       "    <tr>\n",
       "      <th>4</th>\n",
       "      <td>Alabama</td>\n",
       "      <td>Mobile County</td>\n",
       "      <td>Dauphin Island</td>\n",
       "      <td>36528</td>\n",
       "      <td>30.250913</td>\n",
       "      <td>-88.171268</td>\n",
       "      <td>77948</td>\n",
       "    </tr>\n",
       "    <tr>\n",
       "      <th>5</th>\n",
       "      <td>Alabama</td>\n",
       "      <td>Cullman County</td>\n",
       "      <td>Cullman</td>\n",
       "      <td>35057</td>\n",
       "      <td>34.045414</td>\n",
       "      <td>-86.882670</td>\n",
       "      <td>50715</td>\n",
       "    </tr>\n",
       "    <tr>\n",
       "      <th>6</th>\n",
       "      <td>Alabama</td>\n",
       "      <td>Escambia County</td>\n",
       "      <td>East Brewton</td>\n",
       "      <td>36426</td>\n",
       "      <td>31.091440</td>\n",
       "      <td>-87.055345</td>\n",
       "      <td>33737</td>\n",
       "    </tr>\n",
       "    <tr>\n",
       "      <th>7</th>\n",
       "      <td>Alabama</td>\n",
       "      <td>Elmore County</td>\n",
       "      <td>Coosada</td>\n",
       "      <td>36020</td>\n",
       "      <td>32.544337</td>\n",
       "      <td>-86.336446</td>\n",
       "      <td>46319</td>\n",
       "    </tr>\n",
       "    <tr>\n",
       "      <th>8</th>\n",
       "      <td>Alabama</td>\n",
       "      <td>Morgan County</td>\n",
       "      <td>Eva</td>\n",
       "      <td>35621</td>\n",
       "      <td>34.326504</td>\n",
       "      <td>-86.765318</td>\n",
       "      <td>57994</td>\n",
       "    </tr>\n",
       "    <tr>\n",
       "      <th>9</th>\n",
       "      <td>Alabama</td>\n",
       "      <td>Talladega County</td>\n",
       "      <td>Sylacauga</td>\n",
       "      <td>35151</td>\n",
       "      <td>33.168097</td>\n",
       "      <td>-86.442774</td>\n",
       "      <td>54807</td>\n",
       "    </tr>\n",
       "    <tr>\n",
       "      <th>10</th>\n",
       "      <td>Alabama</td>\n",
       "      <td>DeKalb County</td>\n",
       "      <td>Rainsville</td>\n",
       "      <td>35986</td>\n",
       "      <td>34.457329</td>\n",
       "      <td>-85.689447</td>\n",
       "      <td>47929</td>\n",
       "    </tr>\n",
       "    <tr>\n",
       "      <th>11</th>\n",
       "      <td>Alabama</td>\n",
       "      <td>Etowah County</td>\n",
       "      <td>Gadsden</td>\n",
       "      <td>35901</td>\n",
       "      <td>34.009563</td>\n",
       "      <td>-86.015643</td>\n",
       "      <td>42251</td>\n",
       "    </tr>\n",
       "    <tr>\n",
       "      <th>12</th>\n",
       "      <td>Alabama</td>\n",
       "      <td>Butler County</td>\n",
       "      <td>Georgiana</td>\n",
       "      <td>36033</td>\n",
       "      <td>31.639134</td>\n",
       "      <td>-86.746762</td>\n",
       "      <td>27993</td>\n",
       "    </tr>\n",
       "    <tr>\n",
       "      <th>13</th>\n",
       "      <td>Alabama</td>\n",
       "      <td>Coosa County</td>\n",
       "      <td>Rockford</td>\n",
       "      <td>35136</td>\n",
       "      <td>33.060835</td>\n",
       "      <td>-86.052333</td>\n",
       "      <td>31229</td>\n",
       "    </tr>\n",
       "    <tr>\n",
       "      <th>14</th>\n",
       "      <td>Alabama</td>\n",
       "      <td>Hale County</td>\n",
       "      <td>Greensboro</td>\n",
       "      <td>36744</td>\n",
       "      <td>32.700968</td>\n",
       "      <td>-87.593700</td>\n",
       "      <td>36439</td>\n",
       "    </tr>\n",
       "    <tr>\n",
       "      <th>15</th>\n",
       "      <td>Alabama</td>\n",
       "      <td>Marion County</td>\n",
       "      <td>Guin</td>\n",
       "      <td>35563</td>\n",
       "      <td>33.944319</td>\n",
       "      <td>-87.870368</td>\n",
       "      <td>56934</td>\n",
       "    </tr>\n",
       "    <tr>\n",
       "      <th>16</th>\n",
       "      <td>Alabama</td>\n",
       "      <td>Geneva County</td>\n",
       "      <td>Hartford</td>\n",
       "      <td>36344</td>\n",
       "      <td>31.105348</td>\n",
       "      <td>-85.691225</td>\n",
       "      <td>41057</td>\n",
       "    </tr>\n",
       "    <tr>\n",
       "      <th>17</th>\n",
       "      <td>Alabama</td>\n",
       "      <td>Jefferson County</td>\n",
       "      <td>Helena</td>\n",
       "      <td>35080</td>\n",
       "      <td>33.285635</td>\n",
       "      <td>-86.874488</td>\n",
       "      <td>93682</td>\n",
       "    </tr>\n",
       "    <tr>\n",
       "      <th>18</th>\n",
       "      <td>Alabama</td>\n",
       "      <td>Etowah County</td>\n",
       "      <td>Hokes Bluff</td>\n",
       "      <td>35903</td>\n",
       "      <td>33.989682</td>\n",
       "      <td>-85.862873</td>\n",
       "      <td>57202</td>\n",
       "    </tr>\n",
       "    <tr>\n",
       "      <th>19</th>\n",
       "      <td>Alabama</td>\n",
       "      <td>Covington County</td>\n",
       "      <td>Opp</td>\n",
       "      <td>36467</td>\n",
       "      <td>31.238158</td>\n",
       "      <td>-86.325104</td>\n",
       "      <td>49699</td>\n",
       "    </tr>\n",
       "    <tr>\n",
       "      <th>20</th>\n",
       "      <td>Alabama</td>\n",
       "      <td>Etowah County</td>\n",
       "      <td>Attalla</td>\n",
       "      <td>35954</td>\n",
       "      <td>34.037200</td>\n",
       "      <td>-86.147175</td>\n",
       "      <td>51926</td>\n",
       "    </tr>\n",
       "    <tr>\n",
       "      <th>21</th>\n",
       "      <td>Alabama</td>\n",
       "      <td>Lamar County</td>\n",
       "      <td>Millport</td>\n",
       "      <td>35576</td>\n",
       "      <td>33.580891</td>\n",
       "      <td>-87.986179</td>\n",
       "      <td>44572</td>\n",
       "    </tr>\n",
       "    <tr>\n",
       "      <th>22</th>\n",
       "      <td>Alabama</td>\n",
       "      <td>Jackson County</td>\n",
       "      <td>Section</td>\n",
       "      <td>35771</td>\n",
       "      <td>34.545063</td>\n",
       "      <td>-86.093350</td>\n",
       "      <td>56029</td>\n",
       "    </tr>\n",
       "    <tr>\n",
       "      <th>23</th>\n",
       "      <td>Alabama</td>\n",
       "      <td>Covington County</td>\n",
       "      <td>Andalusia</td>\n",
       "      <td>36420</td>\n",
       "      <td>31.243980</td>\n",
       "      <td>-86.460150</td>\n",
       "      <td>51098</td>\n",
       "    </tr>\n",
       "    <tr>\n",
       "      <th>24</th>\n",
       "      <td>Alabama</td>\n",
       "      <td>Covington County</td>\n",
       "      <td>Lockhart</td>\n",
       "      <td>36455</td>\n",
       "      <td>31.013011</td>\n",
       "      <td>-86.350273</td>\n",
       "      <td>45465</td>\n",
       "    </tr>\n",
       "    <tr>\n",
       "      <th>25</th>\n",
       "      <td>Alabama</td>\n",
       "      <td>Washington County</td>\n",
       "      <td>Mcintosh</td>\n",
       "      <td>36553</td>\n",
       "      <td>31.264957</td>\n",
       "      <td>-88.028369</td>\n",
       "      <td>67392</td>\n",
       "    </tr>\n",
       "    <tr>\n",
       "      <th>26</th>\n",
       "      <td>Alabama</td>\n",
       "      <td>Chilton County</td>\n",
       "      <td>Maplesville</td>\n",
       "      <td>36750</td>\n",
       "      <td>32.788282</td>\n",
       "      <td>-86.876651</td>\n",
       "      <td>43767</td>\n",
       "    </tr>\n",
       "    <tr>\n",
       "      <th>27</th>\n",
       "      <td>Alabama</td>\n",
       "      <td>Jefferson County</td>\n",
       "      <td>Fairfield</td>\n",
       "      <td>35064</td>\n",
       "      <td>33.455197</td>\n",
       "      <td>-86.922633</td>\n",
       "      <td>48074</td>\n",
       "    </tr>\n",
       "    <tr>\n",
       "      <th>28</th>\n",
       "      <td>Alabama</td>\n",
       "      <td>Mobile County</td>\n",
       "      <td>Mobile</td>\n",
       "      <td>36606</td>\n",
       "      <td>30.668426</td>\n",
       "      <td>-88.100226</td>\n",
       "      <td>53330</td>\n",
       "    </tr>\n",
       "    <tr>\n",
       "      <th>29</th>\n",
       "      <td>Alabama</td>\n",
       "      <td>Lawrence County</td>\n",
       "      <td>Moulton</td>\n",
       "      <td>35650</td>\n",
       "      <td>34.488302</td>\n",
       "      <td>-87.282707</td>\n",
       "      <td>42079</td>\n",
       "    </tr>\n",
       "    <tr>\n",
       "      <th>...</th>\n",
       "      <td>...</td>\n",
       "      <td>...</td>\n",
       "      <td>...</td>\n",
       "      <td>...</td>\n",
       "      <td>...</td>\n",
       "      <td>...</td>\n",
       "      <td>...</td>\n",
       "    </tr>\n",
       "    <tr>\n",
       "      <th>70</th>\n",
       "      <td>Alabama</td>\n",
       "      <td>Autauga County</td>\n",
       "      <td>Ohatchee</td>\n",
       "      <td>36271</td>\n",
       "      <td>33.768762</td>\n",
       "      <td>-86.037283</td>\n",
       "      <td>66000</td>\n",
       "    </tr>\n",
       "    <tr>\n",
       "      <th>71</th>\n",
       "      <td>Alabama</td>\n",
       "      <td>Autauga County</td>\n",
       "      <td>Panola</td>\n",
       "      <td>35477</td>\n",
       "      <td>32.863881</td>\n",
       "      <td>-88.262331</td>\n",
       "      <td>34064</td>\n",
       "    </tr>\n",
       "    <tr>\n",
       "      <th>72</th>\n",
       "      <td>Alabama</td>\n",
       "      <td>Autauga County</td>\n",
       "      <td>Talladega</td>\n",
       "      <td>35160</td>\n",
       "      <td>33.454831</td>\n",
       "      <td>-86.068082</td>\n",
       "      <td>38882</td>\n",
       "    </tr>\n",
       "    <tr>\n",
       "      <th>73</th>\n",
       "      <td>Alabama</td>\n",
       "      <td>Autauga County</td>\n",
       "      <td>Sylacauga</td>\n",
       "      <td>35150</td>\n",
       "      <td>33.148514</td>\n",
       "      <td>-86.213156</td>\n",
       "      <td>40948</td>\n",
       "    </tr>\n",
       "    <tr>\n",
       "      <th>74</th>\n",
       "      <td>Alabama</td>\n",
       "      <td>Autauga County</td>\n",
       "      <td>Dadeville</td>\n",
       "      <td>36853</td>\n",
       "      <td>32.887890</td>\n",
       "      <td>-85.695187</td>\n",
       "      <td>48421</td>\n",
       "    </tr>\n",
       "    <tr>\n",
       "      <th>75</th>\n",
       "      <td>Alabama</td>\n",
       "      <td>Autauga County</td>\n",
       "      <td>Northport</td>\n",
       "      <td>35475</td>\n",
       "      <td>33.323142</td>\n",
       "      <td>-87.566115</td>\n",
       "      <td>77977</td>\n",
       "    </tr>\n",
       "    <tr>\n",
       "      <th>76</th>\n",
       "      <td>Alabama</td>\n",
       "      <td>Autauga County</td>\n",
       "      <td>Holt</td>\n",
       "      <td>35404</td>\n",
       "      <td>33.243535</td>\n",
       "      <td>-87.482544</td>\n",
       "      <td>37965</td>\n",
       "    </tr>\n",
       "    <tr>\n",
       "      <th>77</th>\n",
       "      <td>Alabama</td>\n",
       "      <td>Autauga County</td>\n",
       "      <td>Tuscaloosa</td>\n",
       "      <td>35401</td>\n",
       "      <td>33.203114</td>\n",
       "      <td>-87.552765</td>\n",
       "      <td>24931</td>\n",
       "    </tr>\n",
       "    <tr>\n",
       "      <th>78</th>\n",
       "      <td>Alabama</td>\n",
       "      <td>Autauga County</td>\n",
       "      <td>Tuscaloosa</td>\n",
       "      <td>35404</td>\n",
       "      <td>33.180727</td>\n",
       "      <td>-87.493793</td>\n",
       "      <td>60252</td>\n",
       "    </tr>\n",
       "    <tr>\n",
       "      <th>79</th>\n",
       "      <td>Alabama</td>\n",
       "      <td>Autauga County</td>\n",
       "      <td>Holt</td>\n",
       "      <td>35404</td>\n",
       "      <td>33.218459</td>\n",
       "      <td>-87.495102</td>\n",
       "      <td>53301</td>\n",
       "    </tr>\n",
       "    <tr>\n",
       "      <th>80</th>\n",
       "      <td>Alabama</td>\n",
       "      <td>Autauga County</td>\n",
       "      <td>Nauvoo</td>\n",
       "      <td>35578</td>\n",
       "      <td>33.944599</td>\n",
       "      <td>-87.464688</td>\n",
       "      <td>40072</td>\n",
       "    </tr>\n",
       "    <tr>\n",
       "      <th>81</th>\n",
       "      <td>Alabama</td>\n",
       "      <td>Autauga County</td>\n",
       "      <td>Lanett</td>\n",
       "      <td>36863</td>\n",
       "      <td>32.858036</td>\n",
       "      <td>-85.206671</td>\n",
       "      <td>35951</td>\n",
       "    </tr>\n",
       "    <tr>\n",
       "      <th>82</th>\n",
       "      <td>Alabama</td>\n",
       "      <td>Autauga County</td>\n",
       "      <td>Millry</td>\n",
       "      <td>36558</td>\n",
       "      <td>31.625663</td>\n",
       "      <td>-88.341566</td>\n",
       "      <td>48623</td>\n",
       "    </tr>\n",
       "    <tr>\n",
       "      <th>83</th>\n",
       "      <td>Alabama</td>\n",
       "      <td>Autauga County</td>\n",
       "      <td>Arley</td>\n",
       "      <td>35541</td>\n",
       "      <td>34.096442</td>\n",
       "      <td>-87.227191</td>\n",
       "      <td>49046</td>\n",
       "    </tr>\n",
       "    <tr>\n",
       "      <th>84</th>\n",
       "      <td>Alabama</td>\n",
       "      <td>Autauga County</td>\n",
       "      <td>Prattville</td>\n",
       "      <td>36067</td>\n",
       "      <td>32.474024</td>\n",
       "      <td>-86.459703</td>\n",
       "      <td>58180</td>\n",
       "    </tr>\n",
       "    <tr>\n",
       "      <th>85</th>\n",
       "      <td>Alabama</td>\n",
       "      <td>Autauga County</td>\n",
       "      <td>Elmore</td>\n",
       "      <td>36025</td>\n",
       "      <td>32.447351</td>\n",
       "      <td>-86.476810</td>\n",
       "      <td>41464</td>\n",
       "    </tr>\n",
       "    <tr>\n",
       "      <th>86</th>\n",
       "      <td>Alabama</td>\n",
       "      <td>Autauga County</td>\n",
       "      <td>Marbury</td>\n",
       "      <td>36051</td>\n",
       "      <td>32.638522</td>\n",
       "      <td>-86.514873</td>\n",
       "      <td>59061</td>\n",
       "    </tr>\n",
       "    <tr>\n",
       "      <th>87</th>\n",
       "      <td>Alabama</td>\n",
       "      <td>Autauga County</td>\n",
       "      <td>Perdido</td>\n",
       "      <td>36562</td>\n",
       "      <td>31.110476</td>\n",
       "      <td>-87.786871</td>\n",
       "      <td>55216</td>\n",
       "    </tr>\n",
       "    <tr>\n",
       "      <th>88</th>\n",
       "      <td>Alabama</td>\n",
       "      <td>Autauga County</td>\n",
       "      <td>Bay Minette</td>\n",
       "      <td>36507</td>\n",
       "      <td>30.896961</td>\n",
       "      <td>-87.773737</td>\n",
       "      <td>36474</td>\n",
       "    </tr>\n",
       "    <tr>\n",
       "      <th>89</th>\n",
       "      <td>Alabama</td>\n",
       "      <td>Autauga County</td>\n",
       "      <td>Daphne</td>\n",
       "      <td>36526</td>\n",
       "      <td>30.647834</td>\n",
       "      <td>-87.843774</td>\n",
       "      <td>107603</td>\n",
       "    </tr>\n",
       "    <tr>\n",
       "      <th>90</th>\n",
       "      <td>Alabama</td>\n",
       "      <td>Autauga County</td>\n",
       "      <td>Loxley</td>\n",
       "      <td>36551</td>\n",
       "      <td>30.611477</td>\n",
       "      <td>-87.772568</td>\n",
       "      <td>50583</td>\n",
       "    </tr>\n",
       "    <tr>\n",
       "      <th>91</th>\n",
       "      <td>Alabama</td>\n",
       "      <td>Autauga County</td>\n",
       "      <td>Robertsdale</td>\n",
       "      <td>36567</td>\n",
       "      <td>30.564129</td>\n",
       "      <td>-87.687007</td>\n",
       "      <td>69996</td>\n",
       "    </tr>\n",
       "    <tr>\n",
       "      <th>92</th>\n",
       "      <td>Alabama</td>\n",
       "      <td>Autauga County</td>\n",
       "      <td>Clanton</td>\n",
       "      <td>35045</td>\n",
       "      <td>32.869580</td>\n",
       "      <td>-86.658888</td>\n",
       "      <td>56638</td>\n",
       "    </tr>\n",
       "    <tr>\n",
       "      <th>93</th>\n",
       "      <td>Alabama</td>\n",
       "      <td>Autauga County</td>\n",
       "      <td>Fairhope</td>\n",
       "      <td>36532</td>\n",
       "      <td>30.540806</td>\n",
       "      <td>-87.891618</td>\n",
       "      <td>67864</td>\n",
       "    </tr>\n",
       "    <tr>\n",
       "      <th>94</th>\n",
       "      <td>Alabama</td>\n",
       "      <td>Autauga County</td>\n",
       "      <td>Foley</td>\n",
       "      <td>36535</td>\n",
       "      <td>30.380276</td>\n",
       "      <td>-87.770318</td>\n",
       "      <td>71445</td>\n",
       "    </tr>\n",
       "    <tr>\n",
       "      <th>95</th>\n",
       "      <td>Alabama</td>\n",
       "      <td>Autauga County</td>\n",
       "      <td>Gulf Shores</td>\n",
       "      <td>36547</td>\n",
       "      <td>30.269628</td>\n",
       "      <td>-87.637277</td>\n",
       "      <td>65583</td>\n",
       "    </tr>\n",
       "    <tr>\n",
       "      <th>96</th>\n",
       "      <td>Alabama</td>\n",
       "      <td>Autauga County</td>\n",
       "      <td>Foley</td>\n",
       "      <td>36535</td>\n",
       "      <td>30.379884</td>\n",
       "      <td>-87.665057</td>\n",
       "      <td>49212</td>\n",
       "    </tr>\n",
       "    <tr>\n",
       "      <th>97</th>\n",
       "      <td>Alabama</td>\n",
       "      <td>Autauga County</td>\n",
       "      <td>Pensacola</td>\n",
       "      <td>32506</td>\n",
       "      <td>30.411165</td>\n",
       "      <td>-87.451119</td>\n",
       "      <td>57395</td>\n",
       "    </tr>\n",
       "    <tr>\n",
       "      <th>98</th>\n",
       "      <td>Alabama</td>\n",
       "      <td>Autauga County</td>\n",
       "      <td>Clayton</td>\n",
       "      <td>36016</td>\n",
       "      <td>31.679443</td>\n",
       "      <td>-85.557720</td>\n",
       "      <td>56947</td>\n",
       "    </tr>\n",
       "    <tr>\n",
       "      <th>99</th>\n",
       "      <td>Alabama</td>\n",
       "      <td>Autauga County</td>\n",
       "      <td>Eufaula</td>\n",
       "      <td>36027</td>\n",
       "      <td>31.920410</td>\n",
       "      <td>-85.175741</td>\n",
       "      <td>43222</td>\n",
       "    </tr>\n",
       "  </tbody>\n",
       "</table>\n",
       "<p>100 rows × 7 columns</p>\n",
       "</div>"
      ],
      "text/plain": [
       "   State_Name             County            City  Zip_Code        Lat  \\\n",
       "0     Alabama      Mobile County       Chickasaw     36611  30.771450   \n",
       "1     Alabama     Barbour County      Louisville     36048  31.708516   \n",
       "2     Alabama      Shelby County      Columbiana     35051  33.191452   \n",
       "3     Alabama      Mobile County         Satsuma     36572  30.874343   \n",
       "4     Alabama      Mobile County  Dauphin Island     36528  30.250913   \n",
       "5     Alabama     Cullman County         Cullman     35057  34.045414   \n",
       "6     Alabama    Escambia County    East Brewton     36426  31.091440   \n",
       "7     Alabama      Elmore County         Coosada     36020  32.544337   \n",
       "8     Alabama      Morgan County             Eva     35621  34.326504   \n",
       "9     Alabama   Talladega County       Sylacauga     35151  33.168097   \n",
       "10    Alabama      DeKalb County      Rainsville     35986  34.457329   \n",
       "11    Alabama      Etowah County         Gadsden     35901  34.009563   \n",
       "12    Alabama      Butler County       Georgiana     36033  31.639134   \n",
       "13    Alabama       Coosa County        Rockford     35136  33.060835   \n",
       "14    Alabama        Hale County      Greensboro     36744  32.700968   \n",
       "15    Alabama      Marion County            Guin     35563  33.944319   \n",
       "16    Alabama      Geneva County        Hartford     36344  31.105348   \n",
       "17    Alabama   Jefferson County          Helena     35080  33.285635   \n",
       "18    Alabama      Etowah County     Hokes Bluff     35903  33.989682   \n",
       "19    Alabama   Covington County             Opp     36467  31.238158   \n",
       "20    Alabama      Etowah County         Attalla     35954  34.037200   \n",
       "21    Alabama       Lamar County        Millport     35576  33.580891   \n",
       "22    Alabama     Jackson County         Section     35771  34.545063   \n",
       "23    Alabama   Covington County       Andalusia     36420  31.243980   \n",
       "24    Alabama   Covington County        Lockhart     36455  31.013011   \n",
       "25    Alabama  Washington County        Mcintosh     36553  31.264957   \n",
       "26    Alabama     Chilton County     Maplesville     36750  32.788282   \n",
       "27    Alabama   Jefferson County       Fairfield     35064  33.455197   \n",
       "28    Alabama      Mobile County          Mobile     36606  30.668426   \n",
       "29    Alabama    Lawrence County         Moulton     35650  34.488302   \n",
       "..        ...                ...             ...       ...        ...   \n",
       "70    Alabama     Autauga County        Ohatchee     36271  33.768762   \n",
       "71    Alabama     Autauga County          Panola     35477  32.863881   \n",
       "72    Alabama     Autauga County       Talladega     35160  33.454831   \n",
       "73    Alabama     Autauga County       Sylacauga     35150  33.148514   \n",
       "74    Alabama     Autauga County       Dadeville     36853  32.887890   \n",
       "75    Alabama     Autauga County       Northport     35475  33.323142   \n",
       "76    Alabama     Autauga County            Holt     35404  33.243535   \n",
       "77    Alabama     Autauga County      Tuscaloosa     35401  33.203114   \n",
       "78    Alabama     Autauga County      Tuscaloosa     35404  33.180727   \n",
       "79    Alabama     Autauga County            Holt     35404  33.218459   \n",
       "80    Alabama     Autauga County          Nauvoo     35578  33.944599   \n",
       "81    Alabama     Autauga County          Lanett     36863  32.858036   \n",
       "82    Alabama     Autauga County          Millry     36558  31.625663   \n",
       "83    Alabama     Autauga County           Arley     35541  34.096442   \n",
       "84    Alabama     Autauga County      Prattville     36067  32.474024   \n",
       "85    Alabama     Autauga County          Elmore     36025  32.447351   \n",
       "86    Alabama     Autauga County         Marbury     36051  32.638522   \n",
       "87    Alabama     Autauga County         Perdido     36562  31.110476   \n",
       "88    Alabama     Autauga County     Bay Minette     36507  30.896961   \n",
       "89    Alabama     Autauga County          Daphne     36526  30.647834   \n",
       "90    Alabama     Autauga County          Loxley     36551  30.611477   \n",
       "91    Alabama     Autauga County     Robertsdale     36567  30.564129   \n",
       "92    Alabama     Autauga County         Clanton     35045  32.869580   \n",
       "93    Alabama     Autauga County        Fairhope     36532  30.540806   \n",
       "94    Alabama     Autauga County           Foley     36535  30.380276   \n",
       "95    Alabama     Autauga County     Gulf Shores     36547  30.269628   \n",
       "96    Alabama     Autauga County           Foley     36535  30.379884   \n",
       "97    Alabama     Autauga County       Pensacola     32506  30.411165   \n",
       "98    Alabama     Autauga County         Clayton     36016  31.679443   \n",
       "99    Alabama     Autauga County         Eufaula     36027  31.920410   \n",
       "\n",
       "          Lon    Mean  \n",
       "0  -88.079697   38773  \n",
       "1  -85.611039   37725  \n",
       "2  -86.615618   54606  \n",
       "3  -88.009442   63919  \n",
       "4  -88.171268   77948  \n",
       "5  -86.882670   50715  \n",
       "6  -87.055345   33737  \n",
       "7  -86.336446   46319  \n",
       "8  -86.765318   57994  \n",
       "9  -86.442774   54807  \n",
       "10 -85.689447   47929  \n",
       "11 -86.015643   42251  \n",
       "12 -86.746762   27993  \n",
       "13 -86.052333   31229  \n",
       "14 -87.593700   36439  \n",
       "15 -87.870368   56934  \n",
       "16 -85.691225   41057  \n",
       "17 -86.874488   93682  \n",
       "18 -85.862873   57202  \n",
       "19 -86.325104   49699  \n",
       "20 -86.147175   51926  \n",
       "21 -87.986179   44572  \n",
       "22 -86.093350   56029  \n",
       "23 -86.460150   51098  \n",
       "24 -86.350273   45465  \n",
       "25 -88.028369   67392  \n",
       "26 -86.876651   43767  \n",
       "27 -86.922633   48074  \n",
       "28 -88.100226   53330  \n",
       "29 -87.282707   42079  \n",
       "..        ...     ...  \n",
       "70 -86.037283   66000  \n",
       "71 -88.262331   34064  \n",
       "72 -86.068082   38882  \n",
       "73 -86.213156   40948  \n",
       "74 -85.695187   48421  \n",
       "75 -87.566115   77977  \n",
       "76 -87.482544   37965  \n",
       "77 -87.552765   24931  \n",
       "78 -87.493793   60252  \n",
       "79 -87.495102   53301  \n",
       "80 -87.464688   40072  \n",
       "81 -85.206671   35951  \n",
       "82 -88.341566   48623  \n",
       "83 -87.227191   49046  \n",
       "84 -86.459703   58180  \n",
       "85 -86.476810   41464  \n",
       "86 -86.514873   59061  \n",
       "87 -87.786871   55216  \n",
       "88 -87.773737   36474  \n",
       "89 -87.843774  107603  \n",
       "90 -87.772568   50583  \n",
       "91 -87.687007   69996  \n",
       "92 -86.658888   56638  \n",
       "93 -87.891618   67864  \n",
       "94 -87.770318   71445  \n",
       "95 -87.637277   65583  \n",
       "96 -87.665057   49212  \n",
       "97 -87.451119   57395  \n",
       "98 -85.557720   56947  \n",
       "99 -85.175741   43222  \n",
       "\n",
       "[100 rows x 7 columns]"
      ]
     },
     "execution_count": 6,
     "metadata": {},
     "output_type": "execute_result"
    }
   ],
   "source": [
    "new_df.head(100)"
   ]
  },
  {
   "cell_type": "code",
   "execution_count": 8,
   "metadata": {},
   "outputs": [
    {
     "data": {
      "text/plain": [
       "53612.925855513306"
      ]
     },
     "execution_count": 8,
     "metadata": {},
     "output_type": "execute_result"
    }
   ],
   "source": [
    "new_df.loc[new_df['State_Name'] == 'Alabama', 'Mean'].mean()"
   ]
  },
  {
   "cell_type": "code",
   "execution_count": 12,
   "metadata": {},
   "outputs": [
    {
     "data": {
      "text/plain": [
       "77670.20952380952"
      ]
     },
     "execution_count": 12,
     "metadata": {},
     "output_type": "execute_result"
    }
   ],
   "source": [
    "new_df.loc[new_df['State_Name'] == 'Alaska', 'Mean'].mean()"
   ]
  },
  {
   "cell_type": "code",
   "execution_count": 13,
   "metadata": {},
   "outputs": [
    {
     "data": {
      "text/plain": [
       "62578.07131280389"
      ]
     },
     "execution_count": 13,
     "metadata": {},
     "output_type": "execute_result"
    }
   ],
   "source": [
    "new_df.loc[new_df['State_Name'] == 'Arizona', 'Mean'].mean()"
   ]
  },
  {
   "cell_type": "code",
   "execution_count": 14,
   "metadata": {},
   "outputs": [
    {
     "data": {
      "text/plain": [
       "52060.361764705885"
      ]
     },
     "execution_count": 14,
     "metadata": {},
     "output_type": "execute_result"
    }
   ],
   "source": [
    "new_df.loc[new_df['State_Name'] == 'Arkansas', 'Mean'].mean()"
   ]
  },
  {
   "cell_type": "code",
   "execution_count": 15,
   "metadata": {},
   "outputs": [
    {
     "data": {
      "text/plain": [
       "78126.73780487805"
      ]
     },
     "execution_count": 15,
     "metadata": {},
     "output_type": "execute_result"
    }
   ],
   "source": [
    "new_df.loc[new_df['State_Name'] == 'California', 'Mean'].mean()"
   ]
  },
  {
   "cell_type": "code",
   "execution_count": 16,
   "metadata": {},
   "outputs": [
    {
     "data": {
      "text/plain": [
       "73322.82129277567"
      ]
     },
     "execution_count": 16,
     "metadata": {},
     "output_type": "execute_result"
    }
   ],
   "source": [
    "new_df.loc[new_df['State_Name'] == 'Colorado', 'Mean'].mean()"
   ]
  },
  {
   "cell_type": "code",
   "execution_count": 17,
   "metadata": {},
   "outputs": [
    {
     "data": {
      "text/plain": [
       "89227.21971830986"
      ]
     },
     "execution_count": 17,
     "metadata": {},
     "output_type": "execute_result"
    }
   ],
   "source": [
    "new_df.loc[new_df['State_Name'] == 'Connecticut', 'Mean'].mean()"
   ]
  },
  {
   "cell_type": "code",
   "execution_count": 18,
   "metadata": {},
   "outputs": [
    {
     "data": {
      "text/plain": [
       "70142.34090909091"
      ]
     },
     "execution_count": 18,
     "metadata": {},
     "output_type": "execute_result"
    }
   ],
   "source": [
    "new_df.loc[new_df['State_Name'] == 'Delaware', 'Mean'].mean()"
   ]
  },
  {
   "cell_type": "code",
   "execution_count": 19,
   "metadata": {},
   "outputs": [
    {
     "data": {
      "text/plain": [
       "60887.88982540638"
      ]
     },
     "execution_count": 19,
     "metadata": {},
     "output_type": "execute_result"
    }
   ],
   "source": [
    "new_df.loc[new_df['State_Name'] == 'Florida', 'Mean'].mean()"
   ]
  },
  {
   "cell_type": "code",
   "execution_count": 20,
   "metadata": {},
   "outputs": [
    {
     "data": {
      "text/plain": [
       "60354.39119804401"
      ]
     },
     "execution_count": 20,
     "metadata": {},
     "output_type": "execute_result"
    }
   ],
   "source": [
    "new_df.loc[new_df['State_Name'] == 'Georgia', 'Mean'].mean()"
   ]
  },
  {
   "cell_type": "code",
   "execution_count": 21,
   "metadata": {},
   "outputs": [
    {
     "data": {
      "text/plain": [
       "77859.58695652174"
      ]
     },
     "execution_count": 21,
     "metadata": {},
     "output_type": "execute_result"
    }
   ],
   "source": [
    "new_df.loc[new_df['State_Name'] == 'Hawaii', 'Mean'].mean()"
   ]
  },
  {
   "cell_type": "code",
   "execution_count": 22,
   "metadata": {},
   "outputs": [
    {
     "data": {
      "text/plain": [
       "56211.44295302014"
      ]
     },
     "execution_count": 22,
     "metadata": {},
     "output_type": "execute_result"
    }
   ],
   "source": [
    "new_df.loc[new_df['State_Name'] == 'Idaho', 'Mean'].mean()"
   ]
  },
  {
   "cell_type": "code",
   "execution_count": 23,
   "metadata": {},
   "outputs": [
    {
     "data": {
      "text/plain": [
       "69067.38155136269"
      ]
     },
     "execution_count": 23,
     "metadata": {},
     "output_type": "execute_result"
    }
   ],
   "source": [
    "new_df.loc[new_df['State_Name'] == 'Illinois', 'Mean'].mean()"
   ]
  },
  {
   "cell_type": "code",
   "execution_count": 24,
   "metadata": {},
   "outputs": [
    {
     "data": {
      "text/plain": [
       "59153.83238636364"
      ]
     },
     "execution_count": 24,
     "metadata": {},
     "output_type": "execute_result"
    }
   ],
   "source": [
    "new_df.loc[new_df['State_Name'] == 'Indiana', 'Mean'].mean()"
   ]
  },
  {
   "cell_type": "code",
   "execution_count": 25,
   "metadata": {},
   "outputs": [
    {
     "data": {
      "text/plain": [
       "62569.14537444934"
      ]
     },
     "execution_count": 25,
     "metadata": {},
     "output_type": "execute_result"
    }
   ],
   "source": [
    "new_df.loc[new_df['State_Name'] == 'Iowa', 'Mean'].mean()"
   ]
  },
  {
   "cell_type": "code",
   "execution_count": 26,
   "metadata": {},
   "outputs": [
    {
     "data": {
      "text/plain": [
       "61704.81889763779"
      ]
     },
     "execution_count": 26,
     "metadata": {},
     "output_type": "execute_result"
    }
   ],
   "source": [
    "new_df.loc[new_df['State_Name'] == 'Kansas', 'Mean'].mean()"
   ]
  },
  {
   "cell_type": "code",
   "execution_count": 27,
   "metadata": {},
   "outputs": [
    {
     "data": {
      "text/plain": [
       "55250.16297786721"
      ]
     },
     "execution_count": 27,
     "metadata": {},
     "output_type": "execute_result"
    }
   ],
   "source": [
    "new_df.loc[new_df['State_Name'] == 'Kentucky', 'Mean'].mean()"
   ]
  },
  {
   "cell_type": "code",
   "execution_count": 28,
   "metadata": {},
   "outputs": [
    {
     "data": {
      "text/plain": [
       "55432.26418786693"
      ]
     },
     "execution_count": 28,
     "metadata": {},
     "output_type": "execute_result"
    }
   ],
   "source": [
    "new_df.loc[new_df['State_Name'] == 'Louisiana', 'Mean'].mean()"
   ]
  },
  {
   "cell_type": "code",
   "execution_count": 29,
   "metadata": {},
   "outputs": [
    {
     "data": {
      "text/plain": [
       "60708.52229299363"
      ]
     },
     "execution_count": 29,
     "metadata": {},
     "output_type": "execute_result"
    }
   ],
   "source": [
    "new_df.loc[new_df['State_Name'] == 'Maine', 'Mean'].mean()"
   ]
  },
  {
   "cell_type": "code",
   "execution_count": 30,
   "metadata": {},
   "outputs": [
    {
     "data": {
      "text/plain": [
       "87689.60409556315"
      ]
     },
     "execution_count": 30,
     "metadata": {},
     "output_type": "execute_result"
    }
   ],
   "source": [
    "new_df.loc[new_df['State_Name'] == 'Maryland', 'Mean'].mean()"
   ]
  },
  {
   "cell_type": "code",
   "execution_count": 31,
   "metadata": {},
   "outputs": [
    {
     "data": {
      "text/plain": [
       "84878.68358208955"
      ]
     },
     "execution_count": 31,
     "metadata": {},
     "output_type": "execute_result"
    }
   ],
   "source": [
    "new_df.loc[new_df['State_Name'] == 'Massachusetts', 'Mean'].mean()"
   ]
  },
  {
   "cell_type": "code",
   "execution_count": 32,
   "metadata": {},
   "outputs": [
    {
     "data": {
      "text/plain": [
       "59001.124361158436"
      ]
     },
     "execution_count": 32,
     "metadata": {},
     "output_type": "execute_result"
    }
   ],
   "source": [
    "new_df.loc[new_df['State_Name'] == 'Michigan', 'Mean'].mean()"
   ]
  },
  {
   "cell_type": "code",
   "execution_count": 33,
   "metadata": {},
   "outputs": [
    {
     "data": {
      "text/plain": [
       "71403.9984399376"
      ]
     },
     "execution_count": 33,
     "metadata": {},
     "output_type": "execute_result"
    }
   ],
   "source": [
    "new_df.loc[new_df['State_Name'] == 'Minnesota', 'Mean'].mean()"
   ]
  },
  {
   "cell_type": "code",
   "execution_count": 34,
   "metadata": {},
   "outputs": [
    {
     "data": {
      "text/plain": [
       "48924.0031152648"
      ]
     },
     "execution_count": 34,
     "metadata": {},
     "output_type": "execute_result"
    }
   ],
   "source": [
    "new_df.loc[new_df['State_Name'] == 'Mississippi', 'Mean'].mean()"
   ]
  },
  {
   "cell_type": "code",
   "execution_count": 35,
   "metadata": {},
   "outputs": [
    {
     "data": {
      "text/plain": [
       "56674.88285714286"
      ]
     },
     "execution_count": 35,
     "metadata": {},
     "output_type": "execute_result"
    }
   ],
   "source": [
    "new_df.loc[new_df['State_Name'] == 'Missouri', 'Mean'].mean()"
   ]
  },
  {
   "cell_type": "code",
   "execution_count": 36,
   "metadata": {},
   "outputs": [
    {
     "data": {
      "text/plain": [
       "57350.55405405405"
      ]
     },
     "execution_count": 36,
     "metadata": {},
     "output_type": "execute_result"
    }
   ],
   "source": [
    "new_df.loc[new_df['State_Name'] == 'Montana', 'Mean'].mean()"
   ]
  },
  {
   "cell_type": "code",
   "execution_count": 37,
   "metadata": {},
   "outputs": [
    {
     "data": {
      "text/plain": [
       "61719.38545454545"
      ]
     },
     "execution_count": 37,
     "metadata": {},
     "output_type": "execute_result"
    }
   ],
   "source": [
    "new_df.loc[new_df['State_Name'] == 'Nebraska', 'Mean'].mean()"
   ]
  },
  {
   "cell_type": "code",
   "execution_count": 38,
   "metadata": {},
   "outputs": [
    {
     "data": {
      "text/plain": [
       "65684.12075471698"
      ]
     },
     "execution_count": 38,
     "metadata": {},
     "output_type": "execute_result"
    }
   ],
   "source": [
    "new_df.loc[new_df['State_Name'] == 'Nevada', 'Mean'].mean()"
   ]
  },
  {
   "cell_type": "code",
   "execution_count": 39,
   "metadata": {},
   "outputs": [
    {
     "data": {
      "text/plain": [
       "76113.50381679389"
      ]
     },
     "execution_count": 39,
     "metadata": {},
     "output_type": "execute_result"
    }
   ],
   "source": [
    "new_df.loc[new_df['State_Name'] == 'New Hampshire', 'Mean'].mean()"
   ]
  },
  {
   "cell_type": "code",
   "execution_count": 40,
   "metadata": {},
   "outputs": [
    {
     "data": {
      "text/plain": [
       "88657.64414414414"
      ]
     },
     "execution_count": 40,
     "metadata": {},
     "output_type": "execute_result"
    }
   ],
   "source": [
    "new_df.loc[new_df['State_Name'] == 'New Jersey', 'Mean'].mean()"
   ]
  },
  {
   "cell_type": "code",
   "execution_count": 41,
   "metadata": {},
   "outputs": [
    {
     "data": {
      "text/plain": [
       "57127.075"
      ]
     },
     "execution_count": 41,
     "metadata": {},
     "output_type": "execute_result"
    }
   ],
   "source": [
    "new_df.loc[new_df['State_Name'] == 'New Mexico', 'Mean'].mean()"
   ]
  },
  {
   "cell_type": "code",
   "execution_count": 42,
   "metadata": {},
   "outputs": [
    {
     "data": {
      "text/plain": [
       "76201.22083333334"
      ]
     },
     "execution_count": 42,
     "metadata": {},
     "output_type": "execute_result"
    }
   ],
   "source": [
    "new_df.loc[new_df['State_Name'] == 'New York', 'Mean'].mean()"
   ]
  },
  {
   "cell_type": "code",
   "execution_count": 43,
   "metadata": {},
   "outputs": [
    {
     "data": {
      "text/plain": [
       "57750.10491803279"
      ]
     },
     "execution_count": 43,
     "metadata": {},
     "output_type": "execute_result"
    }
   ],
   "source": [
    "new_df.loc[new_df['State_Name'] == 'North Carolina', 'Mean'].mean()"
   ]
  },
  {
   "cell_type": "code",
   "execution_count": 44,
   "metadata": {},
   "outputs": [
    {
     "data": {
      "text/plain": [
       "65137.06722689076"
      ]
     },
     "execution_count": 44,
     "metadata": {},
     "output_type": "execute_result"
    }
   ],
   "source": [
    "new_df.loc[new_df['State_Name'] == 'North Dakota', 'Mean'].mean()"
   ]
  },
  {
   "cell_type": "code",
   "execution_count": 45,
   "metadata": {},
   "outputs": [
    {
     "data": {
      "text/plain": [
       "59675.86360266864"
      ]
     },
     "execution_count": 45,
     "metadata": {},
     "output_type": "execute_result"
    }
   ],
   "source": [
    "new_df.loc[new_df['State_Name'] == 'Ohio', 'Mean'].mean()"
   ]
  },
  {
   "cell_type": "code",
   "execution_count": 46,
   "metadata": {},
   "outputs": [
    {
     "data": {
      "text/plain": [
       "55121.33125"
      ]
     },
     "execution_count": 46,
     "metadata": {},
     "output_type": "execute_result"
    }
   ],
   "source": [
    "new_df.loc[new_df['State_Name'] == 'Oklahoma', 'Mean'].mean()"
   ]
  },
  {
   "cell_type": "code",
   "execution_count": 47,
   "metadata": {},
   "outputs": [
    {
     "data": {
      "text/plain": [
       "63597.04909560723"
      ]
     },
     "execution_count": 47,
     "metadata": {},
     "output_type": "execute_result"
    }
   ],
   "source": [
    "new_df.loc[new_df['State_Name'] == 'Oregon', 'Mean'].mean()"
   ]
  },
  {
   "cell_type": "code",
   "execution_count": 48,
   "metadata": {},
   "outputs": [
    {
     "data": {
      "text/plain": [
       "64878.69491525424"
      ]
     },
     "execution_count": 48,
     "metadata": {},
     "output_type": "execute_result"
    }
   ],
   "source": [
    "new_df.loc[new_df['State_Name'] == 'Pennsylvania', 'Mean'].mean()"
   ]
  },
  {
   "cell_type": "code",
   "execution_count": 49,
   "metadata": {},
   "outputs": [
    {
     "data": {
      "text/plain": [
       "72971.1743119266"
      ]
     },
     "execution_count": 49,
     "metadata": {},
     "output_type": "execute_result"
    }
   ],
   "source": [
    "new_df.loc[new_df['State_Name'] == 'Rhode Island', 'Mean'].mean()"
   ]
  },
  {
   "cell_type": "code",
   "execution_count": 50,
   "metadata": {},
   "outputs": [
    {
     "data": {
      "text/plain": [
       "55715.248366013075"
      ]
     },
     "execution_count": 50,
     "metadata": {},
     "output_type": "execute_result"
    }
   ],
   "source": [
    "new_df.loc[new_df['State_Name'] == 'South Carolina', 'Mean'].mean()"
   ]
  },
  {
   "cell_type": "code",
   "execution_count": 51,
   "metadata": {},
   "outputs": [
    {
     "data": {
      "text/plain": [
       "58276.9609375"
      ]
     },
     "execution_count": 51,
     "metadata": {},
     "output_type": "execute_result"
    }
   ],
   "source": [
    "new_df.loc[new_df['State_Name'] == 'South Dakota', 'Mean'].mean()"
   ]
  },
  {
   "cell_type": "code",
   "execution_count": 52,
   "metadata": {},
   "outputs": [
    {
     "data": {
      "text/plain": [
       "56271.95245901639"
      ]
     },
     "execution_count": 52,
     "metadata": {},
     "output_type": "execute_result"
    }
   ],
   "source": [
    "new_df.loc[new_df['State_Name'] == 'Tennessee', 'Mean'].mean()"
   ]
  },
  {
   "cell_type": "code",
   "execution_count": 53,
   "metadata": {},
   "outputs": [
    {
     "data": {
      "text/plain": [
       "65407.010434782605"
      ]
     },
     "execution_count": 53,
     "metadata": {},
     "output_type": "execute_result"
    }
   ],
   "source": [
    "new_df.loc[new_df['State_Name'] == 'Texas', 'Mean'].mean()"
   ]
  },
  {
   "cell_type": "code",
   "execution_count": 54,
   "metadata": {},
   "outputs": [
    {
     "data": {
      "text/plain": [
       "72132.21455938698"
      ]
     },
     "execution_count": 54,
     "metadata": {},
     "output_type": "execute_result"
    }
   ],
   "source": [
    "new_df.loc[new_df['State_Name'] == 'Utah', 'Mean'].mean()"
   ]
  },
  {
   "cell_type": "code",
   "execution_count": 55,
   "metadata": {},
   "outputs": [
    {
     "data": {
      "text/plain": [
       "63195.49397590361"
      ]
     },
     "execution_count": 55,
     "metadata": {},
     "output_type": "execute_result"
    }
   ],
   "source": [
    "new_df.loc[new_df['State_Name'] == 'Vermont', 'Mean'].mean()"
   ]
  },
  {
   "cell_type": "code",
   "execution_count": 56,
   "metadata": {},
   "outputs": [
    {
     "data": {
      "text/plain": [
       "79401.74012738853"
      ]
     },
     "execution_count": 56,
     "metadata": {},
     "output_type": "execute_result"
    }
   ],
   "source": [
    "new_df.loc[new_df['State_Name'] == 'Virginia', 'Mean'].mean()"
   ]
  },
  {
   "cell_type": "code",
   "execution_count": 57,
   "metadata": {},
   "outputs": [
    {
     "data": {
      "text/plain": [
       "74067.36191860466"
      ]
     },
     "execution_count": 57,
     "metadata": {},
     "output_type": "execute_result"
    }
   ],
   "source": [
    "new_df.loc[new_df['State_Name'] == 'Washington', 'Mean'].mean()"
   ]
  },
  {
   "cell_type": "code",
   "execution_count": 58,
   "metadata": {},
   "outputs": [
    {
     "data": {
      "text/plain": [
       "52291.99596774193"
      ]
     },
     "execution_count": 58,
     "metadata": {},
     "output_type": "execute_result"
    }
   ],
   "source": [
    "new_df.loc[new_df['State_Name'] == 'West Virginia', 'Mean'].mean()"
   ]
  },
  {
   "cell_type": "code",
   "execution_count": 59,
   "metadata": {},
   "outputs": [
    {
     "data": {
      "text/plain": [
       "64143.255192878336"
      ]
     },
     "execution_count": 59,
     "metadata": {},
     "output_type": "execute_result"
    }
   ],
   "source": [
    "new_df.loc[new_df['State_Name'] == 'Wisconsin', 'Mean'].mean()"
   ]
  },
  {
   "cell_type": "code",
   "execution_count": 60,
   "metadata": {},
   "outputs": [
    {
     "data": {
      "text/plain": [
       "67552.66666666667"
      ]
     },
     "execution_count": 60,
     "metadata": {},
     "output_type": "execute_result"
    }
   ],
   "source": [
    "new_df.loc[new_df['State_Name'] == 'Wyoming', 'Mean'].mean()"
   ]
  },
  {
   "cell_type": "code",
   "execution_count": 63,
   "metadata": {},
   "outputs": [
    {
     "data": {
      "text/html": [
       "<div>\n",
       "<style scoped>\n",
       "    .dataframe tbody tr th:only-of-type {\n",
       "        vertical-align: middle;\n",
       "    }\n",
       "\n",
       "    .dataframe tbody tr th {\n",
       "        vertical-align: top;\n",
       "    }\n",
       "\n",
       "    .dataframe thead th {\n",
       "        text-align: right;\n",
       "    }\n",
       "</style>\n",
       "<table border=\"1\" class=\"dataframe\">\n",
       "  <thead>\n",
       "    <tr style=\"text-align: right;\">\n",
       "      <th></th>\n",
       "      <th>State</th>\n",
       "      <th>Avg_Income</th>\n",
       "    </tr>\n",
       "  </thead>\n",
       "  <tbody>\n",
       "    <tr>\n",
       "      <th>0</th>\n",
       "      <td>Alabama</td>\n",
       "      <td>53612.92</td>\n",
       "    </tr>\n",
       "    <tr>\n",
       "      <th>1</th>\n",
       "      <td>Alaska</td>\n",
       "      <td>77670.20</td>\n",
       "    </tr>\n",
       "    <tr>\n",
       "      <th>2</th>\n",
       "      <td>Arizona</td>\n",
       "      <td>62578.07</td>\n",
       "    </tr>\n",
       "    <tr>\n",
       "      <th>3</th>\n",
       "      <td>Arkansas</td>\n",
       "      <td>52060.36</td>\n",
       "    </tr>\n",
       "    <tr>\n",
       "      <th>4</th>\n",
       "      <td>California</td>\n",
       "      <td>78126.73</td>\n",
       "    </tr>\n",
       "    <tr>\n",
       "      <th>5</th>\n",
       "      <td>Colorado</td>\n",
       "      <td>73322.82</td>\n",
       "    </tr>\n",
       "    <tr>\n",
       "      <th>6</th>\n",
       "      <td>Connecticut</td>\n",
       "      <td>89227.21</td>\n",
       "    </tr>\n",
       "    <tr>\n",
       "      <th>7</th>\n",
       "      <td>Delaware</td>\n",
       "      <td>70142.34</td>\n",
       "    </tr>\n",
       "    <tr>\n",
       "      <th>8</th>\n",
       "      <td>Florida</td>\n",
       "      <td>60887.88</td>\n",
       "    </tr>\n",
       "    <tr>\n",
       "      <th>9</th>\n",
       "      <td>Georgia</td>\n",
       "      <td>60354.39</td>\n",
       "    </tr>\n",
       "    <tr>\n",
       "      <th>10</th>\n",
       "      <td>Hawaii</td>\n",
       "      <td>77859.58</td>\n",
       "    </tr>\n",
       "    <tr>\n",
       "      <th>11</th>\n",
       "      <td>Idaho</td>\n",
       "      <td>56211.44</td>\n",
       "    </tr>\n",
       "    <tr>\n",
       "      <th>12</th>\n",
       "      <td>Illinois</td>\n",
       "      <td>69067.38</td>\n",
       "    </tr>\n",
       "    <tr>\n",
       "      <th>13</th>\n",
       "      <td>Indiana</td>\n",
       "      <td>59153.83</td>\n",
       "    </tr>\n",
       "    <tr>\n",
       "      <th>14</th>\n",
       "      <td>Iowa</td>\n",
       "      <td>62569.14</td>\n",
       "    </tr>\n",
       "    <tr>\n",
       "      <th>15</th>\n",
       "      <td>Kansas</td>\n",
       "      <td>61704.81</td>\n",
       "    </tr>\n",
       "    <tr>\n",
       "      <th>16</th>\n",
       "      <td>Kentucky</td>\n",
       "      <td>55250.16</td>\n",
       "    </tr>\n",
       "    <tr>\n",
       "      <th>17</th>\n",
       "      <td>Louisiana</td>\n",
       "      <td>55432.26</td>\n",
       "    </tr>\n",
       "    <tr>\n",
       "      <th>18</th>\n",
       "      <td>Maine</td>\n",
       "      <td>60708.52</td>\n",
       "    </tr>\n",
       "    <tr>\n",
       "      <th>19</th>\n",
       "      <td>Maryland</td>\n",
       "      <td>87689.60</td>\n",
       "    </tr>\n",
       "    <tr>\n",
       "      <th>20</th>\n",
       "      <td>Massachusetts</td>\n",
       "      <td>84878.68</td>\n",
       "    </tr>\n",
       "    <tr>\n",
       "      <th>21</th>\n",
       "      <td>Michigan</td>\n",
       "      <td>59001.12</td>\n",
       "    </tr>\n",
       "    <tr>\n",
       "      <th>22</th>\n",
       "      <td>Minnesota</td>\n",
       "      <td>71403.99</td>\n",
       "    </tr>\n",
       "    <tr>\n",
       "      <th>23</th>\n",
       "      <td>Mississippi</td>\n",
       "      <td>48924.00</td>\n",
       "    </tr>\n",
       "    <tr>\n",
       "      <th>24</th>\n",
       "      <td>Missouri</td>\n",
       "      <td>56674.88</td>\n",
       "    </tr>\n",
       "    <tr>\n",
       "      <th>25</th>\n",
       "      <td>Montana</td>\n",
       "      <td>57350.55</td>\n",
       "    </tr>\n",
       "    <tr>\n",
       "      <th>26</th>\n",
       "      <td>Nebraska</td>\n",
       "      <td>61719.38</td>\n",
       "    </tr>\n",
       "    <tr>\n",
       "      <th>27</th>\n",
       "      <td>Nevada</td>\n",
       "      <td>65684.12</td>\n",
       "    </tr>\n",
       "    <tr>\n",
       "      <th>28</th>\n",
       "      <td>New Hampshire</td>\n",
       "      <td>76113.50</td>\n",
       "    </tr>\n",
       "    <tr>\n",
       "      <th>29</th>\n",
       "      <td>New Jersey</td>\n",
       "      <td>88657.64</td>\n",
       "    </tr>\n",
       "    <tr>\n",
       "      <th>30</th>\n",
       "      <td>New Mexico</td>\n",
       "      <td>57127.07</td>\n",
       "    </tr>\n",
       "    <tr>\n",
       "      <th>31</th>\n",
       "      <td>New York</td>\n",
       "      <td>76201.22</td>\n",
       "    </tr>\n",
       "    <tr>\n",
       "      <th>32</th>\n",
       "      <td>North Carolina</td>\n",
       "      <td>57750.10</td>\n",
       "    </tr>\n",
       "    <tr>\n",
       "      <th>33</th>\n",
       "      <td>North Dakota</td>\n",
       "      <td>65137.06</td>\n",
       "    </tr>\n",
       "    <tr>\n",
       "      <th>34</th>\n",
       "      <td>Ohio</td>\n",
       "      <td>59675.86</td>\n",
       "    </tr>\n",
       "    <tr>\n",
       "      <th>35</th>\n",
       "      <td>Oklahoma</td>\n",
       "      <td>55121.33</td>\n",
       "    </tr>\n",
       "    <tr>\n",
       "      <th>36</th>\n",
       "      <td>Oregon</td>\n",
       "      <td>63597.04</td>\n",
       "    </tr>\n",
       "    <tr>\n",
       "      <th>37</th>\n",
       "      <td>Pennsylvania</td>\n",
       "      <td>64878.69</td>\n",
       "    </tr>\n",
       "    <tr>\n",
       "      <th>38</th>\n",
       "      <td>Rhode Island</td>\n",
       "      <td>72971.17</td>\n",
       "    </tr>\n",
       "    <tr>\n",
       "      <th>39</th>\n",
       "      <td>South Carolina</td>\n",
       "      <td>55715.24</td>\n",
       "    </tr>\n",
       "    <tr>\n",
       "      <th>40</th>\n",
       "      <td>South Dakota</td>\n",
       "      <td>58276.96</td>\n",
       "    </tr>\n",
       "    <tr>\n",
       "      <th>41</th>\n",
       "      <td>Tennessee</td>\n",
       "      <td>56271.95</td>\n",
       "    </tr>\n",
       "    <tr>\n",
       "      <th>42</th>\n",
       "      <td>Texas</td>\n",
       "      <td>65407.01</td>\n",
       "    </tr>\n",
       "    <tr>\n",
       "      <th>43</th>\n",
       "      <td>Utah</td>\n",
       "      <td>72132.21</td>\n",
       "    </tr>\n",
       "    <tr>\n",
       "      <th>44</th>\n",
       "      <td>Vermont</td>\n",
       "      <td>63195.49</td>\n",
       "    </tr>\n",
       "    <tr>\n",
       "      <th>45</th>\n",
       "      <td>Virginia</td>\n",
       "      <td>79401.74</td>\n",
       "    </tr>\n",
       "    <tr>\n",
       "      <th>46</th>\n",
       "      <td>Washington</td>\n",
       "      <td>74067.36</td>\n",
       "    </tr>\n",
       "    <tr>\n",
       "      <th>47</th>\n",
       "      <td>West Virginia</td>\n",
       "      <td>52291.99</td>\n",
       "    </tr>\n",
       "    <tr>\n",
       "      <th>48</th>\n",
       "      <td>Wisconsin</td>\n",
       "      <td>64143.25</td>\n",
       "    </tr>\n",
       "    <tr>\n",
       "      <th>49</th>\n",
       "      <td>Wyoming</td>\n",
       "      <td>67552.66</td>\n",
       "    </tr>\n",
       "  </tbody>\n",
       "</table>\n",
       "</div>"
      ],
      "text/plain": [
       "             State Avg_Income\n",
       "0          Alabama   53612.92\n",
       "1           Alaska   77670.20\n",
       "2          Arizona   62578.07\n",
       "3         Arkansas   52060.36\n",
       "4       California   78126.73\n",
       "5         Colorado   73322.82\n",
       "6      Connecticut   89227.21\n",
       "7         Delaware   70142.34\n",
       "8          Florida   60887.88\n",
       "9          Georgia   60354.39\n",
       "10          Hawaii   77859.58\n",
       "11           Idaho   56211.44\n",
       "12        Illinois   69067.38\n",
       "13         Indiana   59153.83\n",
       "14            Iowa   62569.14\n",
       "15          Kansas   61704.81\n",
       "16        Kentucky   55250.16\n",
       "17       Louisiana   55432.26\n",
       "18           Maine   60708.52\n",
       "19        Maryland   87689.60\n",
       "20   Massachusetts   84878.68\n",
       "21        Michigan   59001.12\n",
       "22       Minnesota   71403.99\n",
       "23     Mississippi   48924.00\n",
       "24        Missouri   56674.88\n",
       "25         Montana   57350.55\n",
       "26        Nebraska   61719.38\n",
       "27          Nevada   65684.12\n",
       "28   New Hampshire   76113.50\n",
       "29      New Jersey   88657.64\n",
       "30      New Mexico   57127.07\n",
       "31        New York   76201.22\n",
       "32  North Carolina   57750.10\n",
       "33    North Dakota   65137.06\n",
       "34            Ohio   59675.86\n",
       "35        Oklahoma   55121.33\n",
       "36          Oregon   63597.04\n",
       "37    Pennsylvania   64878.69\n",
       "38    Rhode Island   72971.17\n",
       "39  South Carolina   55715.24\n",
       "40    South Dakota   58276.96\n",
       "41       Tennessee   56271.95\n",
       "42           Texas   65407.01\n",
       "43            Utah   72132.21\n",
       "44         Vermont   63195.49\n",
       "45        Virginia   79401.74\n",
       "46      Washington   74067.36\n",
       "47   West Virginia   52291.99\n",
       "48       Wisconsin   64143.25\n",
       "49         Wyoming   67552.66"
      ]
     },
     "execution_count": 63,
     "metadata": {},
     "output_type": "execute_result"
    }
   ],
   "source": [
    "d = {'State': ['Alabama', 'Alaska', 'Arizona', 'Arkansas', 'California', 'Colorado', 'Connecticut', 'Delaware', 'Florida', 'Georgia', 'Hawaii', 'Idaho', 'Illinois', 'Indiana', 'Iowa', 'Kansas', 'Kentucky', 'Louisiana', 'Maine', 'Maryland', 'Massachusetts', 'Michigan', 'Minnesota', 'Mississippi', 'Missouri', 'Montana', 'Nebraska', 'Nevada', 'New Hampshire', 'New Jersey', 'New Mexico', 'New York', 'North Carolina', 'North Dakota', 'Ohio', 'Oklahoma', 'Oregon', 'Pennsylvania', 'Rhode Island', 'South Carolina', 'South Dakota', 'Tennessee', 'Texas', 'Utah', 'Vermont', 'Virginia', 'Washington', 'West Virginia', 'Wisconsin', 'Wyoming'], 'Avg_Income': ['53612.92', '77670.20', '62578.07', '52060.36', '78126.73', '73322.82', '89227.21', '70142.34', '60887.88', '60354.39', '77859.58', '56211.44', '69067.38', '59153.83', '62569.14', '61704.81', '55250.16', '55432.26', '60708.52', '87689.60', '84878.68', '59001.12', '71403.99', '48924.00', '56674.88', '57350.55', '61719.38', '65684.12', '76113.50', '88657.64', '57127.07', '76201.22', '57750.10', '65137.06', '59675.86', '55121.33', '63597.04', '64878.69', '72971.17', '55715.24', '58276.96', '56271.95', '65407.01', '72132.21', '63195.49', '79401.74', '74067.36', '52291.99', '64143.25', '67552.66']}\n",
    "mean_df = pd.DataFrame(data=d)\n",
    "mean_df.head(51)"
   ]
  },
  {
   "cell_type": "code",
   "execution_count": null,
   "metadata": {},
   "outputs": [],
   "source": []
  },
  {
   "cell_type": "code",
   "execution_count": null,
   "metadata": {},
   "outputs": [],
   "source": [
    "# new_df.to_csv('income_by_zip.csv')"
   ]
  },
  {
   "cell_type": "code",
   "execution_count": 64,
   "metadata": {},
   "outputs": [],
   "source": [
    "mean_df.to_csv('mean_income_state.csv')"
   ]
  },
  {
   "cell_type": "code",
   "execution_count": null,
   "metadata": {},
   "outputs": [],
   "source": []
  }
 ],
 "metadata": {
  "kernelspec": {
   "display_name": "Python 3",
   "language": "python",
   "name": "python3"
  },
  "language_info": {
   "codemirror_mode": {
    "name": "ipython",
    "version": 3
   },
   "file_extension": ".py",
   "mimetype": "text/x-python",
   "name": "python",
   "nbconvert_exporter": "python",
   "pygments_lexer": "ipython3",
   "version": "3.6.7"
  }
 },
 "nbformat": 4,
 "nbformat_minor": 2
}
